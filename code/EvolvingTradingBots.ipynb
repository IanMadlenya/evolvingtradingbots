{
 "cells": [
  {
   "cell_type": "code",
   "execution_count": 2,
   "metadata": {
    "collapsed": false
   },
   "outputs": [
    {
     "name": "stderr",
     "output_type": "stream",
     "text": [
      "/Users/peterharrington/anaconda/lib/python2.7/site-packages/matplotlib/font_manager.py:273: UserWarning: Matplotlib is building the font cache using fc-list. This may take a moment.\n",
      "  warnings.warn('Matplotlib is building the font cache using fc-list. This may take a moment.')\n",
      "/Users/peterharrington/anaconda/lib/python2.7/site-packages/matplotlib/__init__.py:872: UserWarning: axes.color_cycle is deprecated and replaced with axes.prop_cycle; please use the latter.\n",
      "  warnings.warn(self.msg_depr % (key, alt_key))\n"
     ]
    }
   ],
   "source": [
    "import numpy as np\n",
    "import matplotlib\n",
    "import matplotlib.pyplot as plt\n",
    "%matplotlib inline\n",
    "\n",
    "import seaborn as sns\n",
    "sns.set_style(\"white\")\n",
    "\n",
    "import time\n",
    "import timeit\n",
    "\n",
    "import scipy.stats \n",
    "import pandas as pd\n",
    "import pymc as pm\n",
    "\n",
    "import re\n",
    "import numpy as np\n",
    "from datetime import datetime\n",
    "from datetime import timedelta as td"
   ]
  },
  {
   "cell_type": "markdown",
   "metadata": {},
   "source": [
    "### Grab the list of files in our data set\n",
    "- Data set is for Soybeans futures\n",
    "- Each file is one day of trading"
   ]
  },
  {
   "cell_type": "code",
   "execution_count": 7,
   "metadata": {
    "collapsed": false
   },
   "outputs": [
    {
     "name": "stdout",
     "output_type": "stream",
     "text": [
      "Directory:  ['ZS201405_20140421.csv' 'ZS201405_20140422.csv' 'ZS201405_20140423.csv'\n",
      " 'ZS201405_20140424.csv' 'ZS201405_20140425.csv']\n"
     ]
    }
   ],
   "source": [
    "import os\n",
    "minuteDirectory = \"../data/min/\"\n",
    "minuteFiles = np.array(os.listdir(minuteDirectory))\n",
    "print \"Directory: \", minuteFiles[0:5]"
   ]
  },
  {
   "cell_type": "markdown",
   "metadata": {},
   "source": [
    "### A few functions to deal with simple file transactions\n",
    "- We are using Pandas in the model evaluation, but having a simple genfromtxt call is useful for data analysis"
   ]
  },
  {
   "cell_type": "code",
   "execution_count": 8,
   "metadata": {
    "collapsed": false
   },
   "outputs": [
    {
     "name": "stdout",
     "output_type": "stream",
     "text": [
      "Date:  2016-01-14 17:00:00\n"
     ]
    }
   ],
   "source": [
    "def getFullFileName(minuteDirectory, minuteFile):\n",
    "    return minuteDirectory + \"/\" + minuteFile\n",
    "    \n",
    "dateconv = lambda x: datetime.strptime(x, \"%Y%m%d %H:%M:%S\")\n",
    "print \"Date: \", dateconv(\"20160114  17:00:00\")\n",
    "\n",
    "def readMinuteFile(minuteFileName):\n",
    "    names=(\"date\",\"open\",\"high\",\"low\",\"close\",\"volume\",\"adjclose\")\n",
    "    types=(\"|S18\", float, float, float, float, int, float)\n",
    "\n",
    "    data = np.genfromtxt(minuteFileName, delimiter=\",\", skip_header=1, names=names, dtype=None, converters={'date': dateconv})\n",
    "    return data"
   ]
  },
  {
   "cell_type": "markdown",
   "metadata": {},
   "source": [
    "#### Function to get mean valuation\n",
    "- Returns mean of open, close, difference of high vs. low"
   ]
  },
  {
   "cell_type": "code",
   "execution_count": 9,
   "metadata": {
    "collapsed": false
   },
   "outputs": [
    {
     "name": "stdout",
     "output_type": "stream",
     "text": [
      "m_data:  [ 1517.5   1517.    1517.5  ...,  1496.5   1496.5   1498.25]\n",
      "m_open:   1507.64333333\n",
      "m_close:  1507.63285714\n",
      "m_diff:   0.324285714286\n"
     ]
    }
   ],
   "source": [
    "def getMeanValuation(m_data):\n",
    "    return (np.mean(m_data[\"open\"]), np.mean(m_data[\"close\"]), np.mean(np.absolute(m_data[\"high\"] - m_data[\"low\"])))\n",
    "minuteFile = getFullFileName(minuteDirectory, minuteFiles[0])\n",
    "m_data = readMinuteFile(minuteFile)\n",
    "\n",
    "print \"m_data: \", np.concatenate((m_data[\"close\"], m_data[\"open\"]), axis=0)\n",
    "\n",
    "m_open, m_close, m_diff = getMeanValuation(m_data)\n",
    "print \"m_open:  \", m_open\n",
    "print \"m_close: \", m_close\n",
    "print \"m_diff:  \", m_diff"
   ]
  },
  {
   "cell_type": "code",
   "execution_count": 10,
   "metadata": {
    "collapsed": false
   },
   "outputs": [
    {
     "name": "stdout",
     "output_type": "stream",
     "text": [
      "Read  0  files -- currently @  ZS201405_20140421.csv\n",
      "Read  100  files -- currently @  ZS201409_20140908.csv\n",
      "Read  200  files -- currently @  ZS201503_20150128.csv\n",
      "Read  300  files -- currently @  ZS201507_20150622.csv\n",
      "Read  400  files -- currently @  ZS201511_20151110.csv\n",
      "Read  500  files -- currently @  ZS201605_20160406.csv\n"
     ]
    }
   ],
   "source": [
    "avg_data = np.empty(minuteFiles.shape[0])\n",
    "for i in np.arange(minuteFiles.shape[0]):\n",
    "    minuteFile = minuteFiles[i]\n",
    "    minuteData = readMinuteFile(getFullFileName(minuteDirectory, minuteFile))\n",
    "    m_open, m_close, m_diff = getMeanValuation(minuteData)\n",
    "    if((i % 100) == 0):\n",
    "        print \"Read \", i, \" files -- currently @ \", minuteFile\n",
    "    avg_data[i] = m_open"
   ]
  },
  {
   "cell_type": "markdown",
   "metadata": {},
   "source": [
    "### Let's look at the valuation of the entire range of our data\n",
    "- Data fluxuates quite a bit\n",
    "- Data is generally trending downward during our overall range"
   ]
  },
  {
   "cell_type": "markdown",
   "metadata": {},
   "source": [
    "# AM 207 Final Project \n",
    "\n",
    "# Evolving Trading Bots\n",
    "## Peter Harrington and Bryan Jeffrey"
   ]
  },
  {
   "cell_type": "code",
   "execution_count": 18,
   "metadata": {
    "collapsed": false
   },
   "outputs": [
    {
     "data": {
      "image/png": "[encoded data removed]",
      "text/plain": [
       "<matplotlib.figure.Figure at 0xd3f4860>"
      ]
     },
     "metadata": {},
     "output_type": "display_data"
    }
   ],
   "source": [
    "x = np.arange(avg_data.shape[0])\n",
    "plt.plot(x, avg_data)\n",
    "plt.xlabel('Day Number')\n",
    "plt.ylabel('Open Valuation')\n",
    "plt.title('Soybean Futures')\n",
    "plt.show()"
   ]
  },
  {
   "cell_type": "code",
   "execution_count": 4,
   "metadata": {
    "collapsed": false
   },
   "outputs": [
    {
     "data": {
      "image/png": "[encoded data removed]",
      "text/plain": [
       "<matplotlib.figure.Figure at 0x109d3a090>"
      ]
     },
     "metadata": {},
     "output_type": "display_data"
    }
   ],
   "source": [
    "DATA_DIR = \"/Users/peterharrington/Documents/GitHub/evolvingtradingbots/data/min/\"\n",
    "\n",
    "def plot_single_day():\n",
    "    \"\"\"Choose a day's data and plot it\"\"\"\n",
    "    df = pd.read_csv(DATA_DIR + \"ZS201507_20150702.csv\", index_col='Date', parse_dates=True, na_values=['nan'])\n",
    "    df[\"Adj Close\"].plot()\n",
    "    plt.xlabel(\"time (PST)\")\n",
    "    plt.ylabel(\"Settlement Price ($0.01)\")\n",
    "    plt.title(\"Soybeans Futures Prices on 2015/07/02\")\n",
    "    plt.show()\n",
    "    \n",
    "plot_single_day()"
   ]
  },
  {
   "cell_type": "markdown",
   "metadata": {},
   "source": [
    "# Mean Reversion\n",
    "\n",
    "$$x_{t+1} = x_t + k(\\mu_b -x_t) + \\epsilon$$\n",
    "\n",
    "- We want to find the best k, and $\\mu_b$  \n",
    "- This tells us how to get into a trade\n",
    "- For simplicity we will fix the way to \"get out of a trade\""
   ]
  },
  {
   "cell_type": "markdown",
   "metadata": {},
   "source": [
    "# Walk Forward Testing\n",
    "\n",
    "![alt text](walk_for.png \"Title\")"
   ]
  },
  {
   "cell_type": "markdown",
   "metadata": {},
   "source": [
    "### Generate a simple naive score\n",
    "- Let's simply take the difference between open at the start of our data and close at the end\n",
    "- This will represent the value if someone were to have invested at the start, and divested at the end of the range\n",
    "- This provides us an idea of the overall trend of the market to allow us to differentiate against our optimization strategies"
   ]
  },
  {
   "cell_type": "code",
   "execution_count": 12,
   "metadata": {
    "collapsed": false
   },
   "outputs": [
    {
     "name": "stdout",
     "output_type": "stream",
     "text": [
      "Naive Score:  initial valuation:   1515.0\n",
      "final valuation:     954.25\n",
      "difference:          560.75\n",
      "560.75\n"
     ]
    }
   ],
   "source": [
    "def naiveScore(minuteFiles):\n",
    "    minuteFile = minuteFiles[0]\n",
    "    minuteData = readMinuteFile(getFullFileName(minuteDirectory, minuteFile))\n",
    "    initialValuation = minuteData[\"open\"][0]\n",
    "    \n",
    "    minuteFile = minuteFiles[minuteFiles.shape[0] - 1]\n",
    "    minuteData = readMinuteFile(getFullFileName(minuteDirectory, minuteFile))\n",
    "    finalValuation = minuteData[\"close\"][minuteData.shape[0] - 1]\n",
    "\n",
    "    difference = initialValuation - finalValuation\n",
    "    print \"initial valuation:  \", initialValuation\n",
    "    print \"final valuation:    \", finalValuation\n",
    "    print \"difference:         \", (initialValuation - finalValuation)\n",
    "    return difference\n",
    "\n",
    "initialInvestment = 10000\n",
    "print \"Naive Score: \", naiveScore(minuteFiles)"
   ]
  },
  {
   "cell_type": "markdown",
   "metadata": {},
   "source": [
    "### Our scoring function\n",
    "- We use walk-forward analysis as described in our paper to score over time\n",
    "- We apply our mean reversion model over the specified day\n",
    "- This function is used by both the Genetic Algorithms and Simulated Annealing implementations"
   ]
  },
  {
   "cell_type": "code",
   "execution_count": 18,
   "metadata": {
    "collapsed": false
   },
   "outputs": [
    {
     "name": "stdout",
     "output_type": "stream",
     "text": [
      "winning: 3, loosing: 0, profit: 6.875\n"
     ]
    }
   ],
   "source": [
    "\n",
    "from MRSingleDay import MRSingleDay\n",
    "\n",
    "fileName = \"ZS201605_20160314.csv\"\n",
    "scalingParameter = 0.8\n",
    "meanDays = 4\n",
    "profitTarget = 2\n",
    "stopLoss = -5\n",
    "\n",
    "\n",
    "d = MRSingleDay(fileName, scalingParameter, meanDays, profitTarget, stopLoss)\n",
    "ro = d.calc_returns()\n",
    "print \"winning: {}, loosing: {}, profit: {}\".format(ro.num_win, ro.num_loose, ro.cum_ret)"
   ]
  },
  {
   "cell_type": "code",
   "execution_count": 14,
   "metadata": {
    "collapsed": false
   },
   "outputs": [
    {
     "name": "stdout",
     "output_type": "stream",
     "text": [
      "Files To Use:  ['ZS201605_20160414.csv' 'ZS201605_20160415.csv' 'ZS201605_20160418.csv']\n"
     ]
    }
   ],
   "source": [
    "from FileIndexer import FileIndexer\n",
    "from datetime import datetime\n",
    "from datetime import timedelta as td\n",
    "\n",
    "fileIndexer = FileIndexer(\"../data/min\")\n",
    "startDate = datetime(2016,4,14)\n",
    "endDate = datetime(2016,4,18)\n",
    "filesToUse = fileIndexer.getFilesForPeriod(startDate, endDate)\n",
    "print \"Files To Use: \", filesToUse\n"
   ]
  },
  {
   "cell_type": "markdown",
   "metadata": {},
   "source": [
    "Simulated Annealing Algorithm: \n",
    "1.\tSelect a new point to evaluate\n",
    "2.\tCalculate the difference in energy between the new point and the old\n",
    "3.\tIf the energy is higher, accept.  Else probabilistically accept based on energy and temperature.\n",
    "4.\tEvery K iterations adjust the temperature lower based on the thermostat parameter.\n",
    "5.\tEvery N iterations ‘re-heat’, increasing the temperature to make the acceptance probability higher.\n"
   ]
  },
  {
   "cell_type": "code",
   "execution_count": 15,
   "metadata": {
    "collapsed": true
   },
   "outputs": [],
   "source": [
    "def modifyParameters(scalingParameter, meanDays):\n",
    "    modScalingParameter = np.max((scalingParameter + np.random.normal()), 0.1)\n",
    "    modMeanDays = np.maximum((meanDays + np.random.randint(-1, 2)), 1)\n",
    "    return (modScalingParameter, modMeanDays)\n",
    "\n",
    "def simulatedAnnealing(currentFileName, initialMeanDays, initialScalingParameter, profitTarget, stopLoss, initTemp, thermostat, maxIter, reannealing):\n",
    "    scores = []\n",
    "    maxScores = []\n",
    "    temperature = initTemp\n",
    "    it = 0\n",
    "    \n",
    "    print \"Current File Name: \", currentFileName\n",
    "    \n",
    "    scalingParameter = initialScalingParameter\n",
    "    meanDays = initialMeanDays\n",
    "    \n",
    "    d = MRSingleDay(currentFileName, scalingParameter, meanDays, profitTarget, stopLoss)\n",
    "\n",
    "    ro = d.calc_returns()\n",
    "    prevE = ro.cum_ret\n",
    "    maxScore = prevE\n",
    "    maxParams = (initialScalingParameter, meanDays)\n",
    "    \n",
    "    numBaseSteps = 2\n",
    "    numIterations = 0\n",
    "    while(it >= 0):\n",
    "        L = np.max((np.floor(temperature * numBaseSteps).astype(int),1))\n",
    "        proposedScaling, proposedMean = modifyParameters(scalingParameter, meanDays)\n",
    "        d = MRSingleDay(currentFileName, proposedScaling, proposedMean, profitTarget, stopLoss)\n",
    "        ro = d.calc_returns()\n",
    "        newE = ro.cum_ret\n",
    "        deltaE = newE - prevE\n",
    "        u = np.random.uniform()\n",
    "        prob = np.exp( -deltaE/temperature)\n",
    "\n",
    "        # If we're heading up (in this case higher score better), keep\n",
    "        if(newE > prevE):\n",
    "            scalingParameter = proposedScaling\n",
    "            meanDays = proposedMean\n",
    "            prevE = newE\n",
    "            it += 1\n",
    "        elif u < prob:\n",
    "            scalingParameter = proposedScaling\n",
    "            meanDays = proposedMean\n",
    "            prevE = newE\n",
    "            it += 1\n",
    "            \n",
    "        if(prevE > maxScore):\n",
    "            maxScore = prevE\n",
    "            maxParams = (scalingParameter, meanDays)\n",
    "            maxScores.append(prevE)\n",
    "            print \"Max Score Increase \", numIterations, \" max score: \", maxScore, \" parameters: \", maxParams\n",
    "        \n",
    "        numIterations += 1\n",
    "        \n",
    "        if(it % reannealing) == 0:\n",
    "            temperature = thermostat * temperature\n",
    "            \n",
    "            # reheat\n",
    "            if(temperature < 0.01):\n",
    "                temperature = 1\n",
    "                scalingParameter, meanDays = maxParams\n",
    "                prevE = maxScore\n",
    "                \n",
    "        if numIterations > maxIter:\n",
    "            print \"Ending @ \", numIterations, \" with max parameters: \", maxParams\n",
    "            break\n",
    "            \n",
    "    return maxScore, maxScores, maxParams\n",
    "\n",
    "\n",
    "\n",
    "def runSimulatedAnnealing(fileName):\n",
    "    initialMeanDays = 4\n",
    "    initialScalingParameter = 0.8\n",
    "    profitTarget = 2\n",
    "    stopLoss = -5\n",
    "    initTemp = 2\n",
    "    thermostat = 0.95\n",
    "    maxIter = 30\n",
    "    reannealing = 10\n",
    "    maxScore, maxScores, maxParams = simulatedAnnealing(fileName, initialMeanDays, initialScalingParameter, profitTarget, stopLoss, initTemp, thermostat, maxIter, reannealing)        \n",
    "    return maxScore, maxParams[0], maxParams[1]"
   ]
  },
  {
   "cell_type": "code",
   "execution_count": 23,
   "metadata": {
    "collapsed": false
   },
   "outputs": [
    {
     "name": "stdout",
     "output_type": "stream",
     "text": [
      "Current File Name:  ZS201405_20140421.csv\n",
      "Max Score Increase  0  max score:  -22.975  parameters:  (1.5215890399657463, 5)\n",
      "Max Score Increase  1  max score:  -11.2  parameters:  (3.5144835394482405, 6)\n",
      "Max Score Increase  4  max score:  -6.975  parameters:  (4.5416088239867092, 7)\n",
      "Max Score Increase  12  max score:  -0.1  parameters:  (6.6323986420447643, 5)\n",
      "Max Score Increase  13  max score:  2.475  parameters:  (5.32769308945866, 4)\n",
      "Max Score Increase  15  max score:  5.0  parameters:  (6.3573778538206964, 2)\n",
      "Max Score Increase  21  max score:  7.175  parameters:  (4.0276594395027576, 2)\n",
      "Ending @  31  with max parameters:  (4.0276594395027576, 2)\n",
      "Computed Result for  ZS201405_20140421.csv  --  4.0276594395 ,  2.0  -- max score:  7.175\n",
      "Current File Name:  ZS201405_20140422.csv\n",
      "Max Score Increase  0  max score:  5.925  parameters:  (2.4967759227604982, 3)\n",
      "Max Score Increase  2  max score:  7.3  parameters:  (2.03322015636344, 2)\n",
      "Ending @  31  with max parameters:  (2.03322015636344, 2)\n",
      "Computed Result for  ZS201405_20140422.csv  --  2.03322015636 ,  2.0  -- max score:  7.3\n",
      "Current File Name:  ZS201405_20140423.csv\n",
      "Max Score Increase  2  max score:  7.95  parameters:  (-1.6378190290829839, 6)\n",
      "Max Score Increase  4  max score:  9.85  parameters:  (-1.4154069853716043, 6)\n",
      "Max Score Increase  6  max score:  11.3  parameters:  (1.363822488540954, 5)\n",
      "Max Score Increase  20  max score:  17.55  parameters:  (0.59083783236756782, 2)\n",
      "Max Score Increase  21  max score:  19.575  parameters:  (1.189062112081936, 3)\n",
      "Max Score Increase  30  max score:  19.825  parameters:  (1.1598101988556646, 3)\n",
      "Ending @  31  with max parameters:  (1.1598101988556646, 3)\n",
      "Computed Result for  ZS201405_20140423.csv  --  1.15981019886 ,  3.0  -- max score:  19.825\n",
      "Current File Name:  ZS201405_20140424.csv\n",
      "Ending @  31  with max parameters:  (0.8, 4)\n",
      "Computed Result for  ZS201405_20140424.csv  --  0.8 ,  4.0  -- max score:  23.25\n"
     ]
    }
   ],
   "source": [
    "fIndexer = FileIndexer(\"../data/min/\")\n",
    "startDate = datetime(2014,4,1)\n",
    "endDate = datetime(2016,1,1)\n",
    "fileList = fIndexer.getFilesForPeriod(startDate, endDate)\n",
    "#print \"File List: \", fileList\n",
    "\n",
    "results = np.empty((fileList.shape[0], 3))\n",
    "# For purposes of iPython Notebook example compute first few days only.\n",
    "#for i in np.arange(fileList.shape[0]):\n",
    "for i in np.arange(4):\n",
    "    maxScore, scalingParameter, meanObs = runSimulatedAnnealing(fileList[i])\n",
    "    results[i][0] = scalingParameter\n",
    "    results[i][1] = meanObs\n",
    "    results[i][2] = maxScore\n",
    "    print \"Computed Result for \", fileList[i], \" -- \", results[i][0], \", \", results[i][1], \" -- max score: \", results[i][2]"
   ]
  },
  {
   "cell_type": "markdown",
   "metadata": {},
   "source": [
    "### Genetic Algorithm:\n",
    "for each time period:\n",
    "- Generate N random individuals (or start from previous day's survivors)\n",
    "  - for G generations:\n",
    "    - evaluate performance (fitness)\n",
    "    - those with high fitness can reproduce (crossover)\n",
    "    - apply random mutations to children with mutation rate\n"
   ]
  },
  {
   "cell_type": "code",
   "execution_count": 21,
   "metadata": {
    "collapsed": true
   },
   "outputs": [],
   "source": [
    "from MRSingleDay import MRSingleDay\n",
    "from FileIndexer import FileIndexer\n",
    "import numpy as np\n",
    "from datetime import datetime\n",
    "\n",
    "\n",
    "NUM_GENERATIONS = 5\n",
    "POP_SIZE = 6  # population size\n",
    "SURVIVAL_RATE = 0.5\n",
    "MUTATION_RATE = 0.4\n",
    "\n",
    "PROFIT_TARGET = 2\n",
    "STOP_LOSS = -5\n",
    "\n",
    "def crossover(ina, inb):\n",
    "    \"\"\"Returns a crossover pair of ina and inb\"\"\"\n",
    "    return [(ina[0], inb[1]), (inb[0], ina[1])]\n",
    "\n",
    "\n",
    "def mutate(in_tup):\n",
    "    \"\"\" Code borrowed from this project's SimulatedAnnealing modifyParameters\"\"\"\n",
    "    mod_scaling_parameter = np.max((in_tup[0] + np.random.normal()), 0.1)\n",
    "    mod_mean_days = np.maximum((in_tup[1] + np.random.randint(-1, 2)), 1)\n",
    "    return (mod_scaling_parameter, mod_mean_days)\n",
    "\n",
    "\n",
    "def reproduce_mutate(sorted_fitness, solutions):\n",
    "    \"\"\"allows the fittest to reproduce, also applies mutation\"\"\"\n",
    "    ret_solns = []\n",
    "    # those with high fitness can reproduce (crossover)\n",
    "    print sorted_fitness\n",
    "    reproducing_size = int(POP_SIZE * SURVIVAL_RATE)\n",
    "    index = 0\n",
    "    for k in range(reproducing_size):\n",
    "        for j in range(k, reproducing_size):\n",
    "            if k != j:\n",
    "                gene_a = solutions[sorted_fitness[k]]\n",
    "                gene_b = solutions[sorted_fitness[j]]\n",
    "                ret_solns.extend(crossover(gene_a, gene_b))\n",
    "\n",
    "    # apply random mutations to children\n",
    "    mutation_rvs = np.random.uniform(0, 1, POP_SIZE)\n",
    "    for m in np.flatnonzero(mutation_rvs < MUTATION_RATE):\n",
    "        print \"mutation happended!\"\n",
    "        ret_solns[m] = mutate(ret_solns[m])\n",
    "\n",
    "    return ret_solns\n",
    "\n",
    "\n",
    "def single_period_ga(fn, solns, fitness_ftn):\n",
    "    \"\"\"Perform genetic algorithm for a single day\"\"\"\n",
    "    best_soln = None\n",
    "    best_fitness = float('-inf')\n",
    "    for g in range(NUM_GENERATIONS):\n",
    "        print \"generation: \",g\n",
    "        fitness = np.zeros(POP_SIZE)\n",
    "        for i, sol in enumerate(solns):# iterate over all the members of the population\n",
    "            # evaluate performance (fitness)\n",
    "            d = MRSingleDay(fn, sol[0], sol[1], PROFIT_TARGET, STOP_LOSS)\n",
    "            ro = d.calc_returns()\n",
    "            fitness[i] = fitness_ftn(ro)\n",
    "            print sol, i, fitness[i]\n",
    "        sorted_fitness = np.argsort(fitness)[::-1]\n",
    "\n",
    "        if fitness[sorted_fitness[0]] > best_fitness:  # find the best solution\n",
    "            best_fitness = fitness[sorted_fitness[0]]\n",
    "            best_soln = solns[sorted_fitness[0]]\n",
    "\n",
    "        solns = reproduce_mutate(sorted_fitness, solns)\n",
    "\n",
    "    return best_fitness, best_soln, solns\n",
    "\n",
    "\n",
    "def init_solns():\n",
    "    return [(2.033, 3), (-2.397, 5), (-0.940, 7), (-1.563, 4), (2.067, 9), (0.817, 2)]\n",
    "\n",
    "def cum_ret_fitness(ro_in):\n",
    "    \"\"\"Returns the cumulative returns from a trade result object\"\"\"\n",
    "    return ro_in.cum_ret"
   ]
  },
  {
   "cell_type": "code",
   "execution_count": 22,
   "metadata": {
    "collapsed": false
   },
   "outputs": [
    {
     "name": "stdout",
     "output_type": "stream",
     "text": [
      "generation:  0\n",
      "(2.033, 3) 0 6.65\n",
      "(-2.397, 5) 1 31.125\n",
      "(-0.94, 7) 2 -11.025\n",
      "(-1.563, 4) 3 15.475\n",
      "(2.067, 9) 4 -28.05\n",
      "(0.817, 2) 5 -21.1\n",
      "[1 3 0 2 5 4]\n",
      "generation:  1\n",
      "(-2.397, 4) 0 31.125\n",
      "(-1.563, 5) 1 -0.075\n",
      "(-2.397, 3) 2 25.275\n",
      "(2.033, 5) 3 -9.525\n",
      "(-1.563, 3) 4 39.925\n",
      "(2.033, 4) 5 -8.625\n",
      "[4 0 2 1 5 3]\n",
      "mutation happended!\n",
      "mutation happended!\n",
      "mutation happended!\n",
      "mutation happended!\n",
      "generation:  2\n",
      "(-2.0874897128407706, 3) 0 31.125\n",
      "(-2.397, 3) 1 25.275\n",
      "(-1.6392373591757936, 3) 2 31.125\n",
      "(-2.2597089890894884, 4) 3 31.125\n",
      "(-2.0715860239464559, 3) 4 31.125\n",
      "(-2.397, 4) 5 31.125\n",
      "[5 4 3 2 0 1]\n",
      "mutation happended!\n",
      "mutation happended!\n",
      "mutation happended!\n",
      "generation:  3\n",
      "(-2.397, 3) 0 25.275\n",
      "(-2.0715860239464559, 4) 1 31.125\n",
      "(-3.6549006204206531, 5) 2 31.125\n",
      "(-1.504942904121799, 3) 3 39.925\n",
      "(-2.0715860239464559, 4) 4 31.125\n",
      "(-1.7936768476838221, 3) 5 31.125\n",
      "[3 5 4 2 1 0]\n",
      "generation:  4\n",
      "(-1.504942904121799, 3) 0 39.925\n",
      "(-1.7936768476838221, 3) 1 31.125\n",
      "(-1.504942904121799, 4) 2 15.475\n",
      "(-2.0715860239464559, 3) 3 31.125\n",
      "(-1.7936768476838221, 4) 4 39.925\n",
      "(-2.0715860239464559, 3) 5 31.125\n",
      "[4 0 5 3 1 2]\n",
      "mutation happended!\n",
      "mutation happended!\n"
     ]
    },
    {
     "data": {
      "text/plain": [
       "(39.924999999999955,\n",
       " (-1.563, 3),\n",
       " [(-1.7936768476838221, 3),\n",
       "  (-1.504942904121799, 4),\n",
       "  (-0.27474638016162722, 4),\n",
       "  (-1.8300689933719672, 3),\n",
       "  (-1.504942904121799, 3),\n",
       "  (-2.0715860239464559, 3)])"
      ]
     },
     "execution_count": 22,
     "metadata": {},
     "output_type": "execute_result"
    }
   ],
   "source": [
    "# for each day:\n",
    "# Generate N random individuals (or start from previous day's survivors)\n",
    "\n",
    "initial_solutions = [(2.033, 3), (-2.397, 5), (-0.940, 7), (-1.563, 4), (2.067, 9), (0.817, 2)]\n",
    "single_period_ga(\"ZS201407_20140521.csv\", initial_solutions, cum_ret_fitness)"
   ]
  },
  {
   "cell_type": "markdown",
   "metadata": {},
   "source": [
    "# Results\n",
    "\n",
    "## Comparing Optimization Techniques \n",
    "\n",
    "| |Naïve Approach | Simulated Annealing  | Genetic Algorithm \n",
    "| ------------- |:-------------:|:-------------:|-----:|\n",
    "|In sample Cumulative Returns |N/A |5488.65 |2620.675 |\n",
    "|Out of sample Cumulative Returns | -560.75 |219.075 |-20.3| \n",
    "\n",
    "\n",
    "## Other Fitness Functions\n",
    "\n",
    " \n",
    "| |Out of Sample Cum Returns \n",
    "| ------------- |-----:|\n",
    "|Cumulative Return | 219.1 | \n",
    "|Win Ratio | 74.8 |\n",
    "|Average Profit Per Trade | 307.3 | \n"
   ]
  },
  {
   "cell_type": "code",
   "execution_count": 12,
   "metadata": {
    "collapsed": false
   },
   "outputs": [
    {
     "data": {
      "image/png": "[encoded data removed]",
      "text/plain": [
       "<matplotlib.figure.Figure at 0x1133c6fd0>"
      ]
     },
     "metadata": {},
     "output_type": "display_data"
    }
   ],
   "source": [
    "CODE_DIR = \"/Users/peterharrington/Documents/GitHub/evolvingtradingbots/code/\"\n",
    "def plot_cum_results2():\n",
    "    df = pd.read_csv(CODE_DIR + \"SA_GA_cum.csv\")\n",
    "\n",
    "    df[\"Genetic Algorithm\"].plot(legend=True)\n",
    "    df[\"Simulated Annealing\"].plot(legend=True)\n",
    "    plt.xlabel(\"trading day\")\n",
    "    plt.ylabel(\"Cumulative Return ($0.01)   \")\n",
    "    plt.title(\"Cumulative Returns\")\n",
    "    plt.show()\n",
    "    \n",
    "plot_cum_results2()"
   ]
  },
  {
   "cell_type": "markdown",
   "metadata": {},
   "source": []
  }
 ],
 "metadata": {
  "kernelspec": {
   "display_name": "Python 2",
   "language": "python",
   "name": "python2"
  },
  "language_info": {
   "codemirror_mode": {
    "name": "ipython",
    "version": 2
   },
   "file_extension": ".py",
   "mimetype": "text/x-python",
   "name": "python",
   "nbconvert_exporter": "python",
   "pygments_lexer": "ipython2",
   "version": "2.7.11"
  }
 },
 "nbformat": 4,
 "nbformat_minor": 0
}
