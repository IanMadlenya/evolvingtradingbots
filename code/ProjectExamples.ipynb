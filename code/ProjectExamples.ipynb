{
 "cells": [
  {
   "cell_type": "code",
   "execution_count": 55,
   "metadata": {
    "collapsed": false
   },
   "outputs": [
    {
     "name": "stdout",
     "output_type": "stream",
     "text": [
      "\n"
     ]
    }
   ],
   "source": [
    "import numpy as np\n",
    "import matplotlib\n",
    "import matplotlib.pyplot as plt\n",
    "%matplotlib inline\n",
    "\n",
    "import seaborn as sns\n",
    "sns.set_style(\"white\")\n",
    "\n",
    "import time\n",
    "import timeit\n",
    "\n",
    "import scipy.stats \n",
    "import pandas as pd\n",
    "import pymc as pm\n",
    "\n",
    "import re\n",
    "import numpy as np\n",
    "from datetime import datetime"
   ]
  },
  {
   "cell_type": "code",
   "execution_count": 56,
   "metadata": {
    "collapsed": false
   },
   "outputs": [
    {
     "name": "stdout",
     "output_type": "stream",
     "text": [
      "Date:  2016-01-14 17:00:00\n"
     ]
    }
   ],
   "source": [
    "dateconv = lambda x: datetime.strptime(x, \"%Y%m%d %H:%M:%S\")\n",
    "\n",
    "print \"Date: \", dateconv(\"20160114  17:00:00\")"
   ]
  },
  {
   "cell_type": "code",
   "execution_count": 57,
   "metadata": {
    "collapsed": false
   },
   "outputs": [
    {
     "name": "stdout",
     "output_type": "stream",
     "text": [
      "Directory:  ['ZS201405_20140421.csv' 'ZS201405_20140422.csv' 'ZS201405_20140423.csv'\n",
      " 'ZS201405_20140424.csv' 'ZS201405_20140425.csv']\n"
     ]
    }
   ],
   "source": [
    "import os\n",
    "minuteDirectory = \"../data/unzipped_min/\"\n",
    "minuteFiles = np.array(os.listdir(minuteDirectory))\n",
    "print \"Directory: \", minuteFiles[0:5]"
   ]
  },
  {
   "cell_type": "code",
   "execution_count": 58,
   "metadata": {
    "collapsed": false
   },
   "outputs": [
    {
     "name": "stdout",
     "output_type": "stream",
     "text": [
      "m_data:  (datetime.datetime(2014, 4, 20, 17, 0), 1515.0, 1518.5, 1514.25, 1517.5, 233, 1516.1)\n",
      "m_data[date]:  [datetime.datetime(2014, 4, 20, 17, 0)\n",
      " datetime.datetime(2014, 4, 20, 17, 1)\n",
      " datetime.datetime(2014, 4, 20, 17, 2)\n",
      " datetime.datetime(2014, 4, 20, 17, 3)\n",
      " datetime.datetime(2014, 4, 20, 17, 4)]\n"
     ]
    }
   ],
   "source": [
    "names=(\"date\",\"open\",\"high\",\"low\",\"close\",\"volume\",\"adjclose\")\n",
    "types=(\"|S18\", float, float, float, float, int, float)\n",
    "\n",
    "def getFullFileName(minuteDirectory, minuteFile):\n",
    "    return minuteDirectory + \"/\" + minuteFile\n",
    "    \n",
    "\n",
    "def readMinuteFile(minuteFileName):\n",
    "    data = np.genfromtxt(minuteFileName, delimiter=\",\", skip_header=1, names=names, dtype=None, converters={'date': dateconv})\n",
    "    #data = np.genfromtxt(minuteFileName, delimiter=\",\", skip_header=1, names=names, dtype=None)\n",
    "    return data\n",
    "\n",
    "m_data = readMinuteFile(getFullFileName(minuteDirectory, minuteFiles[0]))\n",
    "print \"m_data: \", m_data[0]\n",
    "print \"m_data[date]: \", m_data[\"date\"][0:5]\n",
    "\n",
    "#print \"m_data: \", m_data\n",
    "#print \"m_data: \", np.asarray(m_data)\n",
    "\n"
   ]
  },
  {
   "cell_type": "code",
   "execution_count": 60,
   "metadata": {
    "collapsed": false
   },
   "outputs": [
    {
     "name": "stdout",
     "output_type": "stream",
     "text": [
      "T:  0:10:00\n"
     ]
    }
   ],
   "source": [
    "t = timedelta(minutes = 10)\n",
    "print \"T: \", t"
   ]
  },
  {
   "cell_type": "code",
   "execution_count": 76,
   "metadata": {
    "collapsed": false
   },
   "outputs": [
    {
     "name": "stdout",
     "output_type": "stream",
     "text": [
      "Files for Period  2014-04-21 00:00:00  -  2014-04-21 06:00:00  --  [datetime.datetime(2014, 4, 21, 0, 0)]\n"
     ]
    }
   ],
   "source": [
    "def getFileDate(fileName):\n",
    "    rDate = fileName.replace('.', '_').split('_')[1]\n",
    "    return datetime.strptime(rDate, \"%Y%m%d\")\n",
    "v_getFileDate = np.vectorize(getFileDate)\n",
    "\n",
    "def getFilesForPeriod(minuteFiles, start, end):\n",
    "    fileDates = v_getFileDate(minuteFiles)\n",
    "    return fileDates[(fileDates >= start) & (fileDates <= end)]\n",
    "\n",
    "startDate = datetime(2014,4,21,0,0,0)\n",
    "endDate =  start + timedelta(hours=6)\n",
    "print \"Files for Period \", startDate, \" - \", endDate, \" -- \", getFilesForPeriod(minuteFiles, startDate, endDate)"
   ]
  },
  {
   "cell_type": "code",
   "execution_count": 61,
   "metadata": {
    "collapsed": false
   },
   "outputs": [
    {
     "name": "stdout",
     "output_type": "stream",
     "text": [
      "Last Minute Processed:  2014-04-20 16:59:59\n",
      "Filtered Data:\n",
      "[ (datetime.datetime(2014, 4, 20, 17, 0), 1515.0, 1518.5, 1514.25, 1517.5, 233, 1516.1)\n",
      " (datetime.datetime(2014, 4, 20, 17, 1), 1517.25, 1518.25, 1517.0, 1517.0, 46, 1517.6)\n",
      " (datetime.datetime(2014, 4, 20, 17, 2), 1516.75, 1518.0, 1516.5, 1517.5, 33, 1517.425)\n",
      " (datetime.datetime(2014, 4, 20, 17, 3), 1517.5, 1518.25, 1517.5, 1518.0, 22, 1517.975)\n",
      " (datetime.datetime(2014, 4, 20, 17, 4), 1518.0, 1519.5, 1518.0, 1519.25, 106, 1518.925)\n",
      " (datetime.datetime(2014, 4, 20, 17, 5), 1520.0, 1521.0, 1519.5, 1519.75, 77, 1520.475)\n",
      " (datetime.datetime(2014, 4, 20, 17, 6), 1520.0, 1520.5, 1519.75, 1519.75, 12, 1520.2)\n",
      " (datetime.datetime(2014, 4, 20, 17, 7), 1520.0, 1521.5, 1520.0, 1521.0, 66, 1520.975)\n",
      " (datetime.datetime(2014, 4, 20, 17, 8), 1521.25, 1522.75, 1521.25, 1522.75, 33, 1522.25)\n",
      " (datetime.datetime(2014, 4, 20, 17, 9), 1522.75, 1523.75, 1522.5, 1523.5, 93, 1523.3)]\n"
     ]
    }
   ],
   "source": [
    "def getDataForPeriod(m_data, lastMinuteProcessed, durationMinutes):\n",
    "    nextIntervalEnd = lastMinuteProcessed + timedelta(minutes = durationMinutes)\n",
    "    withinWindow = lambda x: x[\"date\"] > lastMinuteProcessed and x[\"date\"] < nextIntervalEnd\n",
    "    return m_data[(m_data[\"date\"] > lastMinuteProcessed) & (m_data[\"date\"] <= nextIntervalEnd)]\n",
    "\n",
    "lastMinuteProcessed = m_data[\"date\"][0] - timedelta(seconds=1)\n",
    "filteredData = getDataForPeriod(m_data, lastMinuteProcessed, 10)\n",
    "print \"Last Minute Processed: \", lastMinuteProcessed\n",
    "print \"Filtered Data:\\n\", filteredData"
   ]
  },
  {
   "cell_type": "code",
   "execution_count": 47,
   "metadata": {
    "collapsed": false
   },
   "outputs": [
    {
     "name": "stdout",
     "output_type": "stream",
     "text": [
      " m_data:  [ 896.25  896.25  896.25  896.25  896.25  896.25  896.25  896.25  896.25\n",
      "  896.25  896.25  896.25  896.25  896.25  896.25  896.25  896.25  896.25\n",
      "  896.25  896.25  896.25  896.25  896.25  896.25  896.25  896.25  896.25\n",
      "  896.25  896.25  896.25  896.25  896.25  896.25  896.25  896.25  896.25\n",
      "  896.25  896.25  896.25  896.25  896.25  896.25  896.25  896.25  896.25\n",
      "  896.25  896.25  896.25  896.25  896.25  896.25  896.25  896.25  896.25\n",
      "  896.25  896.25  896.25  896.25  896.25  896.25  896.25  896.25  896.25\n",
      "  896.25  896.25  896.25  896.25  896.25  896.25  896.25  896.25  896.25\n",
      "  896.25  896.25  896.25  896.25  896.25  896.25  896.25  896.25  896.25\n",
      "  896.25  896.25  896.25  896.25  896.25  896.25  896.25  896.25  896.25\n",
      "  896.25  896.25  896.25  896.25  896.25  896.25  896.25  896.25  896.25\n",
      "  896.25  896.25  896.25  896.25  896.25  896.25  896.25  896.25  896.25\n",
      "  896.25  896.25  896.25  896.25  896.25  896.25  896.25  896.25  896.25\n",
      "  896.25  896.25  896.25  896.25  896.25  896.25  896.25  896.25  896.25\n",
      "  896.25  896.25  896.25  896.25  896.25  896.25  896.25  896.25  896.25\n",
      "  896.25  896.25  896.25  896.25  896.25  896.25  896.25  896.25  896.25\n",
      "  896.25  896.25  896.25  896.25  896.25  896.25  896.25  896.25  896.25\n",
      "  896.25  896.25  896.25  896.25  896.25  896.25  896.25  896.25  896.25\n",
      "  896.25  896.25  896.25  896.25  896.25  896.25  896.25  896.25  896.25\n",
      "  896.25  896.25  896.25  896.25  896.25  896.25  896.25  896.25  896.25\n",
      "  896.25  896.25  896.25  896.25  896.25  896.25  896.25  896.25  896.25\n",
      "  896.25  896.25  896.25  896.25  896.25  896.25  896.25  896.25  896.25\n",
      "  896.25  896.25  896.25  896.25  896.25  896.25  896.25  896.25  896.25\n",
      "  896.25  896.25  896.25  896.25  896.25  896.25  896.25  896.25  896.25\n",
      "  896.25  896.25  896.25  896.25  896.25  896.25  896.25  896.25  896.25\n",
      "  896.25  896.25  896.25  896.25  896.25  896.25  896.25  896.25  896.25\n",
      "  896.25  896.25  896.25  896.25  896.25  896.25  896.25  896.25  896.25\n",
      "  896.25  896.25  896.25  896.25  896.25  896.25  896.25  896.25  896.25\n",
      "  896.25  896.25  896.25  896.25  896.25  896.25  896.25  896.25  896.25\n",
      "  896.25  896.25  896.25  896.25  896.25  896.25  896.25  896.25  896.25\n",
      "  896.25  896.25  896.25  896.25  896.25  896.25  896.25  896.25  896.25\n",
      "  896.25  896.25  896.25  896.25  896.25  896.25  896.25  896.25  896.25\n",
      "  896.25  896.25  896.25  896.25  896.25  896.25  896.25  896.25  896.25\n",
      "  896.25  896.25  896.25  896.25  896.25  896.25  896.25  896.25  896.25\n",
      "  896.25  896.25  896.25  896.25  896.25  896.25  896.25  896.25  896.25\n",
      "  896.25  896.25  896.25  896.25  896.25  896.25  896.25  896.25  896.25\n",
      "  896.25  896.25  896.25  896.25  896.25  896.25  896.25  896.25  896.25\n",
      "  896.25  896.25  896.25  896.25  896.25  896.25  896.25  896.25  896.25\n",
      "  896.25  896.25  896.25  896.25  896.25  896.25  896.25  896.25  896.25\n",
      "  896.25  896.25  896.25  896.25  896.25  896.25  896.25  896.25  896.25\n",
      "  896.25  896.25  896.25  896.25  896.25  896.25  896.25  896.25  896.25\n",
      "  896.25  896.25  896.25  896.25  896.25  896.25  896.25  896.25  896.25\n",
      "  896.25  896.25  896.25  896.25  896.25  896.25  896.25  896.25  896.25\n",
      "  896.25  896.25  896.25  896.25  896.25  896.25  896.25  896.25  896.25\n",
      "  896.25  896.25  896.25  896.25  896.25  896.25  896.25  896.25  896.25\n",
      "  896.25  896.25  896.25  896.25  896.25  896.25  896.25  896.25  896.25\n",
      "  896.25  896.25  896.25  896.25  896.25  896.25  896.25  896.25  896.25\n",
      "  896.25  896.25  896.25  896.25  896.25  896.25  896.25  896.25  896.25\n",
      "  896.25  896.25  896.25  896.25  896.25  896.25  896.25  896.25  896.25\n",
      "  896.25  896.25  896.25  896.25  896.25  896.25  896.25  896.25  896.25\n",
      "  896.25  896.25  896.25  896.25  896.25  896.25  896.25  896.25  896.25\n",
      "  896.25  896.25  896.25  896.25  896.25  896.25  896.25  896.25  896.25\n",
      "  896.25  896.25  896.25  896.25  896.25  896.25  896.25  896.25  896.25\n",
      "  896.25  896.25  896.25  896.25  896.25  896.25  896.25  896.25  896.25\n",
      "  896.25  896.25  896.25  896.25  896.25  896.25  896.25  896.25  896.25\n",
      "  896.25  896.25  896.25  896.25  896.25  896.25  896.25  896.25  896.25\n",
      "  896.25  896.25  896.25  896.25  896.25  896.25  896.25  896.25  896.25\n",
      "  896.25  896.25  896.25  896.25  896.25  896.25  896.25  896.25  896.25\n",
      "  896.25  896.25  896.25  896.25  896.25  896.25  896.25  896.25  896.25\n",
      "  896.25  896.25  896.25  896.25  896.25  896.25  896.25  896.25  896.25\n",
      "  896.25  896.25  896.25  896.25  896.25  896.25  896.25  896.25  896.25\n",
      "  896.25  896.25  896.25  896.25  896.25  896.25  896.25  896.25  896.25\n",
      "  896.25  896.25  896.25  896.25  896.25  896.25  896.25  896.25  896.25\n",
      "  896.25  896.25  896.25  896.25  896.25  896.25  896.25  896.25  896.25\n",
      "  896.25  896.25  896.25  896.25  896.25  896.25  896.25  896.25  896.25\n",
      "  896.25  896.25  896.25  896.25  896.25  896.25  896.25  896.25  896.25\n",
      "  896.25  896.25  896.25  896.25  896.25  896.25  896.25  896.25  896.25\n",
      "  896.25  896.25  896.25  896.25  896.25  896.25  896.25  896.25  896.25\n",
      "  896.25  896.25  896.25  896.25  896.25  896.25  896.25  896.25  896.25\n",
      "  896.25  896.25  896.25  896.25  896.25  896.25  896.25  896.25  896.25\n",
      "  896.25  896.25  896.25  896.25  896.25  896.25  896.25  896.25  896.25\n",
      "  896.25  896.25  896.25  896.25  896.25  896.25  896.25  896.25  896.25\n",
      "  896.25  896.25  896.25  896.25  896.25  896.25  896.25  896.25  896.25\n",
      "  896.25  896.25  896.25  896.25  896.25  896.25  896.25  896.25  896.25\n",
      "  896.25  896.25  896.25  896.25  896.25  896.25  896.25  896.25  896.25\n",
      "  896.25  896.25  896.25  896.25  896.25  896.25  896.25  896.25  896.25\n",
      "  896.25  896.25  896.25  896.25  896.25  896.25  896.25  896.25  896.25\n",
      "  896.25  896.25  896.25  896.25  896.25  896.25  896.25  896.25  896.25\n",
      "  896.25  896.25  896.25  896.25  896.25  896.25  896.25  896.25  896.25\n",
      "  896.25  896.25  896.25  896.25  896.25  896.25  896.25  896.25  896.25\n",
      "  896.25  896.25  896.25  896.25  896.25  896.25  896.25  896.25  896.25\n",
      "  896.25  896.25  896.25  896.25  896.25  896.25  896.25  896.25  896.25\n",
      "  896.25  896.25  896.25  896.25  896.25  896.25  896.25  896.25  896.25\n",
      "  896.25  896.25  896.25  896.25  896.25  896.25  896.25  896.25  896.25\n",
      "  896.25  896.25  896.25  896.25  896.25  896.25  896.25  896.25  896.25\n",
      "  896.25  896.25  896.25  896.25  896.25  896.25  896.25  896.25  896.25\n",
      "  896.25  896.25  896.25  896.25  896.25  896.25  896.25  896.25  896.25\n",
      "  896.25  896.25  896.25  896.25  896.25  896.25  896.25  896.25  896.25\n",
      "  896.25  896.25  896.25  896.25  896.25  896.25  896.25  896.25  896.25\n",
      "  896.25  896.25  896.25  896.25  896.25  896.25  896.25  896.25  896.25\n",
      "  896.25  896.25  896.25  896.25  896.25  896.25  896.25  896.25  896.25\n",
      "  896.25  896.25  896.25  896.25  896.25  896.25  896.25  896.25  896.25\n",
      "  896.25  896.25  896.25  896.25  896.25  896.25  896.25  896.25  896.25\n",
      "  896.25  896.25  896.25]\n",
      "m_open:   896.25\n",
      "m_close:  896.25\n",
      "m_diff:   0.0\n"
     ]
    }
   ],
   "source": [
    "def getMeanValuation(m_data):\n",
    "    return (np.mean(m_data[\"open\"]), np.mean(m_data[\"close\"]), np.mean(np.absolute(m_data[\"high\"] - m_data[\"low\"])))\n",
    "print \"m_data: \", np.concatenate((m_data[\"close\"], m_data[\"open\"]), axis=0)\n",
    "\n",
    "m_open, m_close, m_diff = getMeanValuation(m_data)\n",
    "print \"m_open:  \", m_open\n",
    "print \"m_close: \", m_close\n",
    "print \"m_diff:  \", m_diff"
   ]
  },
  {
   "cell_type": "code",
   "execution_count": null,
   "metadata": {
    "collapsed": true
   },
   "outputs": [],
   "source": []
  }
 ],
 "metadata": {
  "kernelspec": {
   "display_name": "Python 2",
   "language": "python",
   "name": "python2"
  },
  "language_info": {
   "codemirror_mode": {
    "name": "ipython",
    "version": 2
   },
   "file_extension": ".py",
   "mimetype": "text/x-python",
   "name": "python",
   "nbconvert_exporter": "python",
   "pygments_lexer": "ipython2",
   "version": "2.7.11"
  }
 },
 "nbformat": 4,
 "nbformat_minor": 0
}
