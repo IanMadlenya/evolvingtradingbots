{
 "cells": [
  {
   "cell_type": "code",
   "execution_count": 1,
   "metadata": {
    "collapsed": true
   },
   "outputs": [],
   "source": [
    "import numpy as np\n",
    "import matplotlib\n",
    "import matplotlib.pyplot as plt\n",
    "%matplotlib inline\n",
    "\n",
    "import seaborn as sns\n",
    "sns.set_style(\"white\")\n",
    "\n",
    "import time\n",
    "import timeit\n",
    "\n",
    "import scipy.stats \n",
    "import pandas as pd\n",
    "import pymc as pm\n",
    "\n",
    "import re\n",
    "import numpy as np\n",
    "from datetime import datetime"
   ]
  },
  {
   "cell_type": "code",
   "execution_count": 2,
   "metadata": {
    "collapsed": false
   },
   "outputs": [
    {
     "name": "stdout",
     "output_type": "stream",
     "text": [
      "Date:  2016-01-14 17:00:00\n"
     ]
    }
   ],
   "source": [
    "dateconv = lambda x: datetime.strptime(x, \"%Y%m%d %H:%M:%S\")\n",
    "\n",
    "print \"Date: \", dateconv(\"20160114  17:00:00\")"
   ]
  },
  {
   "cell_type": "code",
   "execution_count": 11,
   "metadata": {
    "collapsed": false
   },
   "outputs": [
    {
     "name": "stdout",
     "output_type": "stream",
     "text": [
      "Directory:  ['ZS_201601_min.csv']\n"
     ]
    }
   ],
   "source": [
    "import os\n",
    "print \"Directory: \", os.listdir(\"../data/min/\")"
   ]
  },
  {
   "cell_type": "code",
   "execution_count": 13,
   "metadata": {
    "collapsed": false
   },
   "outputs": [
    {
     "name": "stdout",
     "output_type": "stream",
     "text": [
      "m_data:  (datetime.datetime(2016, 1, 14, 17, 0), 896.25, 896.25, 896.25, 896.25, 0, 896.25)\n",
      "m_data[date]:  [datetime.datetime(2016, 1, 14, 17, 0)\n",
      " datetime.datetime(2016, 1, 14, 17, 1)\n",
      " datetime.datetime(2016, 1, 14, 17, 2)\n",
      " datetime.datetime(2016, 1, 14, 17, 3)\n",
      " datetime.datetime(2016, 1, 14, 17, 4)]\n"
     ]
    }
   ],
   "source": [
    "names=(\"date\",\"open\",\"high\",\"low\",\"close\",\"volume\",\"adjclose\")\n",
    "types=(\"|S18\", float, float, float, float, int, float)\n",
    "\n",
    "def readMinuteFile(minuteFileName):\n",
    "    data = np.genfromtxt(minuteFileName, delimiter=\",\", skip_header=1, names=names, dtype=None, converters={'date': dateconv})\n",
    "    #data = np.genfromtxt(minuteFileName, delimiter=\",\", skip_header=1, names=names, dtype=None)\n",
    "    return data\n",
    "\n",
    "m_data = readMinuteFile(\"../data/min/ZS_201601_min.csv\")\n",
    "print \"m_data: \", m_data[0]\n",
    "print \"m_data[date]: \", m_data[\"date\"][0:5]\n",
    "#print \"m_data: \", m_data\n",
    "#print \"m_data: \", np.asarray(m_data)\n",
    "\n"
   ]
  },
  {
   "cell_type": "code",
   "execution_count": null,
   "metadata": {
    "collapsed": true
   },
   "outputs": [],
   "source": []
  },
  {
   "cell_type": "code",
   "execution_count": null,
   "metadata": {
    "collapsed": true
   },
   "outputs": [],
   "source": []
  }
 ],
 "metadata": {
  "kernelspec": {
   "display_name": "Python 2",
   "language": "python",
   "name": "python2"
  },
  "language_info": {
   "codemirror_mode": {
    "name": "ipython",
    "version": 2
   },
   "file_extension": ".py",
   "mimetype": "text/x-python",
   "name": "python",
   "nbconvert_exporter": "python",
   "pygments_lexer": "ipython2",
   "version": "2.7.11"
  }
 },
 "nbformat": 4,
 "nbformat_minor": 0
}
